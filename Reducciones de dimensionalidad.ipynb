{
 "cells": [
  {
   "cell_type": "markdown",
   "id": "e9135070",
   "metadata": {
    "pycharm": {
     "name": "#%% md\n"
    }
   },
   "source": [
    "# Machine Learning - Reducciones de dimensionalidad"
   ]
  },
  {
   "cell_type": "markdown",
   "id": "2b793e73",
   "metadata": {
    "pycharm": {
     "name": "#%% md\n"
    }
   },
   "source": [
    "## Julio Antonio Fresneda García"
   ]
  },
  {
   "cell_type": "markdown",
   "id": "69d3421b",
   "metadata": {
    "pycharm": {
     "name": "#%% md\n"
    }
   },
   "source": [
    "Este proyecto va a consistir principalmente en la **comparación de clasificaciones realizadas empleando técnicas de reducción de dimensionalidad**.\n",
    "Se van a usar las imágenes de caras obtenidas con el método de scikit-learn *fetch_olivetti_faces*.\n",
    "Con estas imágenes, se van a realizar varias tareas relacionadas con reducciones de dimensionalidad:\n",
    "\n",
    "   1. Comprimir las imágenes aplicando PCA de manera que se preserve el 95 % de la varianza y mostrar las 8 primeras imágenes originales y descomprimidas. Crear un nuevo dataset con las imágenes comprimidas. ¿Qué número de píxeles quedan al comprimir?\n",
    "   2. Lo mismo que en 1. usando LDA.\n",
    "   3.  Dividir los datos en conjunto de entrenamiento y test de manera que el conjunto de test sea un 20 % del total, tanto para los datos originales como para los comprimidos con PCA y LDA. Repasar la documentación de scikit-learn referida a SVM para ver si es conveniente aplicar transformaciones a los datos.\n",
    "   4. Realizar una afinación de hiperparámetros para LinearSVC y SVC con kernel ’rbf’ para la clasificación de los datos originales, realizando la búsqueda de parámetros como se comentó en las subsecciones 7.4.1 y 7.4.2 (cambiando SVR por SVC). Usar para el parámetro ’cv’ de GridSearchCV el valor 10. Medir los tiempos en milisegundos de las dos ejecuciones de GridSearchCV. Se recomienda usar multiproceso.\n",
    "   5. Realizar 4. usando los datos comprimidos mediante PCA.\n",
    "   6. Realizar 4. usando los datos comprimidos mediante LDA.\n",
    "   7. Comparar los parámetros resultantes para los mejores estimadores obtenidos en 4., 5. y 6. así como sus accuracies y los tiempos de ejecución totales de las búsquedas y la media de las búsquedas de cada GridSearchCV teniendo en cuenta el número de valores de los parámetros en cada GridSearchCV.\n",
    "\n",
    "\n",
    "\n",
    "\n",
    "\n",
    "\n"
   ]
  },
  {
   "cell_type": "markdown",
   "id": "7caf3b1d",
   "metadata": {
    "pycharm": {
     "name": "#%% md\n"
    }
   },
   "source": [
    "# Pasos previos: Importar y explicar el dataset"
   ]
  },
  {
   "cell_type": "markdown",
   "id": "e1202802",
   "metadata": {
    "pycharm": {
     "name": "#%% md\n"
    }
   },
   "source": [
    "Antes de comenzar con las tareas, debemos de cargar el dataset de imágenes que usaremos. Como hemos comentado en el enunciado, usaremos el dataset de *fetch_olivetti_faces* que proporciona scikit-learn."
   ]
  },
  {
   "cell_type": "code",
   "execution_count": 1,
   "id": "53e9c03a",
   "metadata": {
    "pycharm": {
     "name": "#%%\n"
    }
   },
   "outputs": [],
   "source": [
    "RANDOM_SEED = 10"
   ]
  },
  {
   "cell_type": "code",
   "execution_count": 2,
   "id": "d7422515",
   "metadata": {
    "pycharm": {
     "name": "#%%\n"
    }
   },
   "outputs": [],
   "source": [
    "from sklearn.datasets import fetch_olivetti_faces\n",
    "faces = fetch_olivetti_faces(shuffle=True, random_state=RANDOM_SEED)"
   ]
  },
  {
   "cell_type": "markdown",
   "id": "4eb597e1",
   "metadata": {
    "pycharm": {
     "name": "#%% md\n"
    }
   },
   "source": [
    "## Descripción del dataset"
   ]
  },
  {
   "cell_type": "markdown",
   "id": "f8dc664d",
   "metadata": {
    "pycharm": {
     "name": "#%% md\n"
    }
   },
   "source": [
    "El propio dataset trae su descripción, la cual explica perfectamente el contenido del mismo."
   ]
  },
  {
   "cell_type": "code",
   "execution_count": 3,
   "id": "7bbab081",
   "metadata": {
    "pycharm": {
     "name": "#%%\n"
    }
   },
   "outputs": [
    {
     "data": {
      "text/markdown": [
       ".. _olivetti_faces_dataset:\n",
       "\n",
       "The Olivetti faces dataset\n",
       "--------------------------\n",
       "\n",
       "`This dataset contains a set of face images`_ taken between April 1992 and \n",
       "April 1994 at AT&T Laboratories Cambridge. The\n",
       ":func:`sklearn.datasets.fetch_olivetti_faces` function is the data\n",
       "fetching / caching function that downloads the data\n",
       "archive from AT&T.\n",
       "\n",
       ".. _This dataset contains a set of face images: http://www.cl.cam.ac.uk/research/dtg/attarchive/facedatabase.html\n",
       "\n",
       "As described on the original website:\n",
       "\n",
       "    There are ten different images of each of 40 distinct subjects. For some\n",
       "    subjects, the images were taken at different times, varying the lighting,\n",
       "    facial expressions (open / closed eyes, smiling / not smiling) and facial\n",
       "    details (glasses / no glasses). All the images were taken against a dark\n",
       "    homogeneous background with the subjects in an upright, frontal position \n",
       "    (with tolerance for some side movement).\n",
       "\n",
       "**Data Set Characteristics:**\n",
       "\n",
       "    =================   =====================\n",
       "    Classes                                40\n",
       "    Samples total                         400\n",
       "    Dimensionality                       4096\n",
       "    Features            real, between 0 and 1\n",
       "    =================   =====================\n",
       "\n",
       "The image is quantized to 256 grey levels and stored as unsigned 8-bit \n",
       "integers; the loader will convert these to floating point values on the \n",
       "interval [0, 1], which are easier to work with for many algorithms.\n",
       "\n",
       "The \"target\" for this database is an integer from 0 to 39 indicating the\n",
       "identity of the person pictured; however, with only 10 examples per class, this\n",
       "relatively small dataset is more interesting from an unsupervised or\n",
       "semi-supervised perspective.\n",
       "\n",
       "The original dataset consisted of 92 x 112, while the version available here\n",
       "consists of 64x64 images.\n",
       "\n",
       "When using these images, please give credit to AT&T Laboratories Cambridge.\n"
      ],
      "text/plain": [
       "<IPython.core.display.Markdown object>"
      ]
     },
     "metadata": {},
     "output_type": "display_data"
    }
   ],
   "source": [
    "from IPython.display import Markdown\n",
    "display(Markdown(faces.DESCR))"
   ]
  },
  {
   "cell_type": "markdown",
   "id": "81f6dfa9",
   "metadata": {
    "pycharm": {
     "name": "#%% md\n"
    }
   },
   "source": [
    "## Visualizado de imágenes"
   ]
  },
  {
   "cell_type": "markdown",
   "id": "4d600585",
   "metadata": {
    "pycharm": {
     "name": "#%% md\n"
    }
   },
   "source": [
    "Para tener los conceptos un poco más claros, siempre es útil tener información en forma visual, como pueden ser gráficos o imágenes. En este caso, resulta bastante esclarecedor el concepto de pérdida de información a la hora de reducir la dimensionalidad e intentar reconstruir las imágenes originales. \n",
    "Es por ello, que vamos a usar una función que pinte 8 de estas imágenes que tome como parámetro. Ésta función la usaremos más adelante."
   ]
  },
  {
   "cell_type": "code",
   "execution_count": 4,
   "id": "82664102",
   "metadata": {
    "pycharm": {
     "name": "#%%\n"
    }
   },
   "outputs": [],
   "source": [
    "import matplotlib.pyplot as plt\n",
    "def plot_gallery(title, images, n_col=4, n_row=2, cmap=plt.cm.gray):\n",
    "    image_shape = (64, 64)\n",
    "\n",
    "    plt.figure(figsize=(2. * n_col, 2.26 * n_row))\n",
    "    plt.suptitle(title, size=16)\n",
    "    for i, comp in enumerate(images):\n",
    "        plt.subplot(n_row, n_col, i + 1)\n",
    "        vmax = max(comp.max(), -comp.min())\n",
    "        plt.imshow(comp.reshape(image_shape), cmap=cmap,\n",
    "                   interpolation='nearest',\n",
    "                   vmin=-vmax, vmax=vmax)\n",
    "        plt.xticks(())\n",
    "        plt.yticks(())\n",
    "    plt.subplots_adjust(0.01, 0.05, 0.99, 0.93, 0.04, 0.)"
   ]
  },
  {
   "cell_type": "markdown",
   "id": "c5e62cab",
   "metadata": {
    "pycharm": {
     "name": "#%% md\n"
    }
   },
   "source": [
    "# Pasos previos: Pipelines"
   ]
  },
  {
   "cell_type": "markdown",
   "id": "cd8e59a7",
   "metadata": {
    "pycharm": {
     "name": "#%% md\n"
    }
   },
   "source": [
    "Una forma muy útil de automatizar operaciones en cadena es mediante pipelines. Los hemos usado en anteriores prácticas, y ya hemos visto que son ampliamente usados.\n",
    "\n",
    "En el caso de esta práctica, usaremos pipelines: Uno para las imágenes sin reducción de dimensionalidad, otro para imágenes con reducción de dimensionalidad mediante PCA, y otro para imágenes con reducción de dimensionalidad mediante LDA. Ampliaremos información sobre ésto más adelante."
   ]
  },
  {
   "cell_type": "markdown",
   "id": "6f5e8a89",
   "metadata": {
    "pycharm": {
     "name": "#%% md\n"
    }
   },
   "source": [
    "## Transformador personalizado: Image Centering"
   ]
  },
  {
   "cell_type": "markdown",
   "id": "bf6c1767",
   "metadata": {
    "pycharm": {
     "name": "#%% md\n"
    }
   },
   "source": [
    "Algunos algoritmos, como PCA, asumen que el dataset está centrado en el origen. Otros simplemente funcionan mejor. Es por ello que nos será útil tener un transformador que haga esta tarea, para adjuntarla a nuestros pipelines."
   ]
  },
  {
   "cell_type": "code",
   "execution_count": 5,
   "id": "5082561a",
   "metadata": {
    "pycharm": {
     "name": "#%%\n"
    }
   },
   "outputs": [],
   "source": [
    "from sklearn.base import BaseEstimator, TransformerMixin\n",
    "class ImageCentering(BaseEstimator, TransformerMixin):\n",
    "\n",
    "  def __init__(self):  \n",
    "    pass\n",
    "\n",
    "  def fit(self, X, y = None):\n",
    "    return self\n",
    "\n",
    "  def transform(self, X, y = None):\n",
    "    X_ = X.copy()\n",
    "    n_samples, n_features = X_.shape\n",
    "    \n",
    "    # global centering\n",
    "    X_centered = X_ - X_.mean(axis=0)\n",
    "\n",
    "    # local centering\n",
    "    X_centered -= X_centered.mean(axis=1).reshape(n_samples, -1)\n",
    "\n",
    "    return X_centered"
   ]
  },
  {
   "cell_type": "markdown",
   "id": "a1b027de",
   "metadata": {
    "pycharm": {
     "name": "#%% md\n"
    }
   },
   "source": [
    "## Composición de pipelines"
   ]
  },
  {
   "cell_type": "markdown",
   "id": "510ac8f8",
   "metadata": {
    "pycharm": {
     "name": "#%% md\n"
    }
   },
   "source": [
    "Como ya adelantamos, usaremos pipelines distintos. El primero, centra las imágenes, y el segundo usa StandardScaler para el escalado."
   ]
  },
  {
   "cell_type": "code",
   "execution_count": 6,
   "id": "d335d3fe",
   "metadata": {
    "pycharm": {
     "name": "#%%\n"
    }
   },
   "outputs": [],
   "source": [
    "from sklearn.pipeline import Pipeline\n",
    "from sklearn.preprocessing import StandardScaler\n",
    "\n",
    "PIPE_ImageCentering = Pipeline([('imgcentering', ImageCentering())])\n",
    "PIPE_StandardScaler = Pipeline([('imgcentering', ImageCentering()), ('standard_scaler', StandardScaler())])"
   ]
  },
  {
   "cell_type": "markdown",
   "id": "5b4aa6e3",
   "metadata": {
    "pycharm": {
     "name": "#%% md\n"
    }
   },
   "source": [
    "# Tarea 1: Compresión con Principal Component Analysis"
   ]
  },
  {
   "cell_type": "markdown",
   "id": "cbee1648",
   "metadata": {
    "pycharm": {
     "name": "#%% md\n"
    }
   },
   "source": [
    "**Comprimir las imágenes aplicando PCA de manera que se preserve el 95 % de la varianza y mostrar las 8 primeras imágenes originales y descomprimidas. Crear un nuevo dataset con las imágenes comprimidas. ¿Qué número de píxeles quedan al comprimir?**"
   ]
  },
  {
   "cell_type": "markdown",
   "id": "0d5f38cb",
   "metadata": {
    "pycharm": {
     "name": "#%% md\n"
    }
   },
   "source": [
    "El PCA es un algoritmo que, primero identifica el hiperplano que se encuentra más cerca de los datos, o se ajusta más a los datos, y luego proyecta los datos en él, intentando preservar el la máxima varianza posible.\n",
    "\n",
    "Esta técnica se basa en *mainfold learning*, que parte de la hipótesis *mainfold*, la cual dice que los datasets del mundo real de muchas variables tienden a caer en un hiperplano que se puede explicar con menos variables de las que el dataset tiene. Es por éllo, que si encontramos ese hiperplano teórico, deberíamos reducir la dimensionalidad del dataset con una pérdida mínima de información."
   ]
  },
  {
   "cell_type": "markdown",
   "id": "ede37fd7",
   "metadata": {
    "pycharm": {
     "name": "#%% md\n"
    }
   },
   "source": [
    "## Imágenes originales"
   ]
  },
  {
   "cell_type": "markdown",
   "id": "6cfecf5d",
   "metadata": {
    "pycharm": {
     "name": "#%% md\n"
    }
   },
   "source": [
    "Vamos a mostrar primero ocho imágenes sin comprimir. De ésta forma, podremos apreciar las diferencias. Las veremos sin centrar, y centradas."
   ]
  },
  {
   "cell_type": "code",
   "execution_count": 7,
   "id": "e69d73a1",
   "metadata": {
    "pycharm": {
     "name": "#%%\n"
    }
   },
   "outputs": [
    {
     "data": {
      "image/png": "[encoded data removed]",
      "text/plain": [
       "<Figure size 576x325.44 with 8 Axes>"
      ]
     },
     "metadata": {},
     "output_type": "display_data"
    }
   ],
   "source": [
    "plot_gallery('Imagenes originales, sin centrar', faces.data[:8])"
   ]
  },
  {
   "cell_type": "code",
   "execution_count": 8,
   "id": "d9b1c484",
   "metadata": {
    "pycharm": {
     "name": "#%%\n"
    }
   },
   "outputs": [
    {
     "data": {
      "image/png": "[encoded data removed]",
      "text/plain": [
       "<Figure size 576x325.44 with 8 Axes>"
      ]
     },
     "metadata": {},
     "output_type": "display_data"
    }
   ],
   "source": [
    "X_centered = PIPE_ImageCentering.fit_transform(faces.data)\n",
    "plot_gallery('Imagenes originales, centradas', X_centered[:8])"
   ]
  },
  {
   "cell_type": "markdown",
   "id": "6ca48e60",
   "metadata": {
    "pycharm": {
     "name": "#%% md\n"
    }
   },
   "source": [
    "Hemos visto algunas imágenes, pero no hemos dicho nada de dimensionalidad. ¿Cuántos píxeles tiene cada imagen?"
   ]
  },
  {
   "cell_type": "code",
   "execution_count": 9,
   "id": "65719f0d",
   "metadata": {
    "pycharm": {
     "name": "#%%\n"
    }
   },
   "outputs": [
    {
     "data": {
      "text/plain": [
       "(400, 4096)"
      ]
     },
     "execution_count": 9,
     "metadata": {},
     "output_type": "execute_result"
    }
   ],
   "source": [
    "faces.data.shape"
   ]
  },
  {
   "cell_type": "markdown",
   "id": "645065c6",
   "metadata": {
    "pycharm": {
     "name": "#%% md\n"
    }
   },
   "source": [
    "Al ser una imagen 64x64, tenemos 4096 píxeles, es decir, 4096 variables explicativas."
   ]
  },
  {
   "cell_type": "markdown",
   "id": "2ceaf825",
   "metadata": {
    "pycharm": {
     "name": "#%% md\n"
    }
   },
   "source": [
    "## Usando Principal Component Analysis"
   ]
  },
  {
   "cell_type": "markdown",
   "id": "28f59c54",
   "metadata": {
    "pycharm": {
     "name": "#%% md\n"
    }
   },
   "source": [
    "Primero, vamos a reducir la dimensionalidad del dataset. Usaremos la librería de scikit-learn. Como nos indican en el enunciado, buscamos que se preserve, como mínimo, el 95% de la varianza."
   ]
  },
  {
   "cell_type": "code",
   "execution_count": 10,
   "id": "2abf48c7",
   "metadata": {
    "pycharm": {
     "name": "#%%\n"
    }
   },
   "outputs": [],
   "source": [
    "from sklearn.decomposition import PCA\n",
    "# Cargamos el objeto PCA\n",
    "pca = PCA(n_components = 0.95)\n",
    "\n",
    "# Centramos y escalamos\n",
    "X_centered = PIPE_StandardScaler.fit_transform(faces.data)\n",
    "\n",
    "# Obtenemos el dataset con dimensionalidad reducida\n",
    "X_PCA = pca.fit_transform(X_centered)"
   ]
  },
  {
   "cell_type": "markdown",
   "id": "ad254fdd",
   "metadata": {
    "pycharm": {
     "name": "#%% md\n"
    }
   },
   "source": [
    "Vamos a ver cuantas dimensiones tenemos después de usar PCA"
   ]
  },
  {
   "cell_type": "code",
   "execution_count": 11,
   "id": "d4a82949",
   "metadata": {
    "pycharm": {
     "name": "#%%\n"
    }
   },
   "outputs": [
    {
     "data": {
      "text/plain": [
       "(400, 146)"
      ]
     },
     "execution_count": 11,
     "metadata": {},
     "output_type": "execute_result"
    }
   ],
   "source": [
    "X_PCA.shape"
   ]
  },
  {
   "cell_type": "markdown",
   "id": "236b6fdc",
   "metadata": {
    "pycharm": {
     "name": "#%% md\n"
    }
   },
   "source": [
    "146 variables, es decir, **146 píxeles**, explicando el 95% del dataset original. Vamos a volver a descomprimir, y comparamos visualmente, para apreciear la pérdida de información. Usaremos la transformación inversa."
   ]
  },
  {
   "cell_type": "code",
   "execution_count": 12,
   "id": "c71722fc",
   "metadata": {
    "scrolled": true,
    "pycharm": {
     "name": "#%%\n"
    }
   },
   "outputs": [
    {
     "data": {
      "image/png": "[encoded data removed]",
      "text/plain": [
       "<Figure size 576x325.44 with 8 Axes>"
      ]
     },
     "metadata": {},
     "output_type": "display_data"
    }
   ],
   "source": [
    "X_PCA_desc = pca.inverse_transform(X_PCA)\n",
    "plot_gallery(\"Imágenes comprimidas y descomprimidas: PCA\", X_PCA_desc[:8])"
   ]
  },
  {
   "cell_type": "markdown",
   "id": "30a448f4",
   "metadata": {
    "pycharm": {
     "name": "#%% md\n"
    }
   },
   "source": [
    "Podemos apreciar que recuperamos imágenes muy parecidas a las originales, sin casi pérdida de información."
   ]
  },
  {
   "cell_type": "markdown",
   "id": "25b74a13",
   "metadata": {
    "pycharm": {
     "name": "#%% md\n"
    }
   },
   "source": [
    "# Tarea 2: Compresión con Linear Discriminant Analysis"
   ]
  },
  {
   "cell_type": "markdown",
   "id": "b21fb1ff",
   "metadata": {
    "pycharm": {
     "name": "#%% md\n"
    }
   },
   "source": [
    "**Comprimir las imágenes aplicando LDA de manera que se preserve el 95 % de la varianza y mostrar las 8 primeras imágenes originales y descomprimidas. Crear un nuevo dataset con las imágenes comprimidas. ¿Qué número de píxeles quedan al comprimir?**"
   ]
  },
  {
   "cell_type": "markdown",
   "id": "1c8f7fdc",
   "metadata": {
    "pycharm": {
     "name": "#%% md\n"
    }
   },
   "source": [
    "Primero, vamos a reducir la dimensionalidad del dataset. Usaremos la librería de scikit-learn. En este caso, no podemos asegurar un 95% de varianza ya que no lo permite el constructor del objeto LDA. Es por ello que calcularemos el número de componentes a mano."
   ]
  },
  {
   "cell_type": "code",
   "execution_count": 13,
   "id": "ea4aac54",
   "metadata": {
    "pycharm": {
     "name": "#%%\n"
    }
   },
   "outputs": [
    {
     "data": {
      "text/plain": [
       "29"
      ]
     },
     "execution_count": 13,
     "metadata": {},
     "output_type": "execute_result"
    }
   ],
   "source": [
    "from sklearn.discriminant_analysis import LinearDiscriminantAnalysis\n",
    "import numpy as np\n",
    "\n",
    "lda = LinearDiscriminantAnalysis()\n",
    "lda.fit(X_centered, faces.target)\n",
    "cumsum = np.cumsum(lda.explained_variance_ratio_)\n",
    "d = np.argmax(cumsum >= 0.95) + 1\n",
    "d"
   ]
  },
  {
   "cell_type": "markdown",
   "id": "fbc0d386",
   "metadata": {
    "pycharm": {
     "name": "#%% md\n"
    }
   },
   "source": [
    "Parece ser que 29 es el número de componentes mínimo que preservan este 95% de varianza. Sabiendo ésto, vamos a obtener el dataset comprimido."
   ]
  },
  {
   "cell_type": "code",
   "execution_count": 14,
   "id": "3afebc8c",
   "metadata": {
    "pycharm": {
     "name": "#%%\n"
    }
   },
   "outputs": [
    {
     "data": {
      "text/plain": [
       "(400, 29)"
      ]
     },
     "execution_count": 14,
     "metadata": {},
     "output_type": "execute_result"
    }
   ],
   "source": [
    "lda = LinearDiscriminantAnalysis(n_components = 29)\n",
    "X_LDA = lda.fit(X_centered,faces.target).transform(X_centered)\n",
    "X_LDA.shape"
   ]
  },
  {
   "cell_type": "markdown",
   "id": "48c09fbd",
   "metadata": {
    "pycharm": {
     "name": "#%% md\n"
    }
   },
   "source": [
    "Listo, ya tenemos nuestro dataset con dimensionalidad reducida. Cada imagen se ha reducido a **29 pixeles**.\n",
    "\n",
    "Ya que no podemos obtener la inversa de forma nativa para ver las imágenes reconstruidas, vamos a construir una función que nos devuelva la pseudo-inversa. La fuente está referenciada en la bibliografía."
   ]
  },
  {
   "cell_type": "code",
   "execution_count": 15,
   "id": "b188b70b",
   "metadata": {
    "pycharm": {
     "name": "#%%\n"
    }
   },
   "outputs": [],
   "source": [
    "from sklearn.utils.validation import check_is_fitted\n",
    "from sklearn.utils import check_array, check_X_y\n",
    "\n",
    "def inverse_transform(lda, x):\n",
    "   \n",
    "    check_is_fitted(lda, ['xbar_', 'scalings_'], all_or_any=any)\n",
    "\n",
    "    inv = np.linalg.pinv(lda.scalings_)\n",
    "\n",
    "    x = check_array(x)\n",
    "    if lda.solver == 'svd':\n",
    "        x_back = np.dot(x, inv) + lda.xbar_\n",
    "    elif lda.solver == 'eigen':\n",
    "        x_back = np.dot(x, inv)\n",
    "\n",
    "    return x_back"
   ]
  },
  {
   "cell_type": "markdown",
   "id": "292227b0",
   "metadata": {
    "pycharm": {
     "name": "#%% md\n"
    }
   },
   "source": [
    "Puesto que, para que funcione la inversa, debemos tener la dimensionalidad igual a la longitud de atributos de scalings, vamos a llenar con ceros."
   ]
  },
  {
   "cell_type": "code",
   "execution_count": 16,
   "id": "7768c900",
   "metadata": {
    "pycharm": {
     "name": "#%%\n"
    }
   },
   "outputs": [
    {
     "data": {
      "text/plain": [
       "39"
      ]
     },
     "execution_count": 16,
     "metadata": {},
     "output_type": "execute_result"
    }
   ],
   "source": [
    "(lda.scalings_.shape[1])"
   ]
  },
  {
   "cell_type": "code",
   "execution_count": 17,
   "id": "956ae641",
   "metadata": {
    "pycharm": {
     "name": "#%%\n"
    }
   },
   "outputs": [],
   "source": [
    "X_LDA_rec = X_LDA.copy()"
   ]
  },
  {
   "cell_type": "code",
   "execution_count": 18,
   "id": "994e2d88",
   "metadata": {
    "pycharm": {
     "name": "#%%\n"
    }
   },
   "outputs": [],
   "source": [
    "X_LDA_rec_ = []\n",
    "for a in X_LDA_rec:\n",
    "    while(len(a) < lda.scalings_.shape[1]):\n",
    "        a = np.append(a,0)\n",
    "    X_LDA_rec_.append(a)\n",
    "    \n",
    "X_LDA_rec_ = np.asarray(X_LDA_rec_)"
   ]
  },
  {
   "cell_type": "markdown",
   "id": "f8810d73",
   "metadata": {
    "pycharm": {
     "name": "#%% md\n"
    }
   },
   "source": [
    "Ya podemos obtener la información inversa."
   ]
  },
  {
   "cell_type": "code",
   "execution_count": 19,
   "id": "6444795e",
   "metadata": {
    "pycharm": {
     "name": "#%%\n"
    }
   },
   "outputs": [],
   "source": [
    "Xb = inverse_transform(lda, X_LDA_rec_)"
   ]
  },
  {
   "cell_type": "code",
   "execution_count": 20,
   "id": "1ed4d23f",
   "metadata": {
    "pycharm": {
     "name": "#%%\n"
    }
   },
   "outputs": [
    {
     "data": {
      "image/png": "[encoded data removed]",
      "text/plain": [
       "<Figure size 576x325.44 with 8 Axes>"
      ]
     },
     "metadata": {},
     "output_type": "display_data"
    }
   ],
   "source": [
    "plot_gallery(\"Imágenes comprimidas y descomprimidas: LDA\", Xb[:8])"
   ]
  },
  {
   "cell_type": "markdown",
   "id": "df21fded",
   "metadata": {
    "pycharm": {
     "name": "#%% md\n"
    }
   },
   "source": [
    "En este caso en particular no sabría decir si realmente se ha conservado el 95% de información o hemos hecho algo mal. Quizás sí que está la información, pero no podemos apreciarla con el ojo humano."
   ]
  },
  {
   "cell_type": "markdown",
   "id": "89649df2",
   "metadata": {
    "pycharm": {
     "name": "#%% md\n"
    }
   },
   "source": [
    "# Tarea 3: División en train y test"
   ]
  },
  {
   "cell_type": "markdown",
   "id": "4ebc9ae9",
   "metadata": {
    "pycharm": {
     "name": "#%% md\n"
    }
   },
   "source": [
    "**Dividir los datos en conjunto de entrenamiento y test de manera que el conjunto de test sea un 20 % del total, tanto para los datos originales como para los comprimidos con PCA y LDA. Repasar la documentación de scikit-learn referida a SVM para ver si es conveniente aplicar transformaciones a los datos.**"
   ]
  },
  {
   "cell_type": "markdown",
   "id": "068e6340",
   "metadata": {
    "pycharm": {
     "name": "#%% md\n"
    }
   },
   "source": [
    "Usaremos la función *train_test_split*, proporcionada por la librería de scikit-learn. Puesto que usamos misma semilla para la aleatoreidad, el orden es el mismo en todas las divisiones."
   ]
  },
  {
   "cell_type": "code",
   "execution_count": 21,
   "id": "d8fee432",
   "metadata": {
    "pycharm": {
     "name": "#%%\n"
    }
   },
   "outputs": [],
   "source": [
    "from sklearn.model_selection import train_test_split\n",
    "\n",
    "# Sin comprimir\n",
    "X_train, X_test, y_train, y_test = train_test_split(faces.data, faces.target, test_size=0.2, random_state=RANDOM_SEED)\n",
    "\n",
    "# Compresión PCA\n",
    "X_PCA_train, X_PCA_test, y_PCA_train, y_PCA_test = train_test_split(X_PCA, faces.target, test_size=0.2, random_state=RANDOM_SEED)\n",
    "\n",
    "# Compresión LDA\n",
    "X_LDA_train, X_LDA_test, y_LDA_train, y_LDA_test = train_test_split(X_LDA, faces.target, test_size=0.2, random_state=RANDOM_SEED)\n"
   ]
  },
  {
   "cell_type": "markdown",
   "id": "9afa5e38",
   "metadata": {
    "pycharm": {
     "name": "#%% md\n"
    }
   },
   "source": [
    "Puesto que en las próximas tareas vamos a usar algoritmos de clasificación basados en Support Vector Machines, debemos hacer alguna transformación. En el caso de la información sin compresión, debemos centrar las imágenes y escalar. En los otros dos casos (PCA y LDA), ya hemos hecho estas tareas, por tanto nos ahorramos este paso."
   ]
  },
  {
   "cell_type": "code",
   "execution_count": 22,
   "id": "05048965",
   "metadata": {
    "pycharm": {
     "name": "#%%\n"
    }
   },
   "outputs": [],
   "source": [
    "X_train = PIPE_StandardScaler.fit_transform(X_train)\n",
    "X_test = PIPE_StandardScaler.fit_transform(X_test)"
   ]
  },
  {
   "cell_type": "markdown",
   "id": "7814a0d5",
   "metadata": {
    "pycharm": {
     "name": "#%% md\n"
    }
   },
   "source": [
    "# Pasos previos a las tareas siguientes: Clase para entrenar"
   ]
  },
  {
   "cell_type": "markdown",
   "id": "739522d7",
   "metadata": {
    "pycharm": {
     "name": "#%% md\n"
    }
   },
   "source": [
    "Las siguientes tareas van a ser bastante repetitivas. Para no hacer este trabajo demasiado redundante y con código repetitivo, vamos a definir una clase que haga todo por nosotros:\n",
    "\n",
    "   1. Hace una primera búsqueda de hiperparámetros usando GridSearchCV\n",
    "   2. Hace una segunda búsqueda de hiperparámetros usando GridSearchCV\n",
    "   3. Entrena el modelo con los mejores hiperparámetros encontrados\n",
    "   4. Evalúa con el dataset de test"
   ]
  },
  {
   "cell_type": "code",
   "execution_count": 23,
   "id": "8e6c5687",
   "metadata": {
    "pycharm": {
     "name": "#%%\n"
    }
   },
   "outputs": [],
   "source": [
    "from sklearn.model_selection import GridSearchCV\n",
    "import time\n",
    "import math\n",
    "\n",
    "from sklearn.svm import SVC\n",
    "from sklearn.svm import LinearSVC\n",
    "\n",
    "from sklearn.metrics import classification_report\n",
    "from sklearn.model_selection import cross_val_score\n",
    "from sklearn.metrics import plot_confusion_matrix\n",
    "from sklearn.metrics import accuracy_score\n",
    "from sklearn.metrics import recall_score\n",
    "from sklearn.metrics import precision_score\n",
    "from sklearn.metrics import f1_score\n",
    "\n",
    "import numpy as np\n",
    "from sklearn.metrics import ConfusionMatrixDisplay, confusion_matrix\n",
    "import matplotlib.pyplot as plt\n",
    "\n",
    "class CompleteTrainWithGridSearch:\n",
    "    def __init__(self, X_train, y_train, X_test, y_test, model):\n",
    "        # Inicialización\n",
    "        self.X_train = X_train.copy()\n",
    "        self.y_train = y_train.copy()\n",
    "        \n",
    "        self.X_test = X_test.copy()\n",
    "        self.y_test = y_test.copy()\n",
    "        \n",
    "        self.model = model\n",
    "        \n",
    "    def startTraining(self):\n",
    "        # Pasos a seguir\n",
    "        self.firstSearch()\n",
    "        self.secondSearch()\n",
    "        self.trainModel()\n",
    "        self.evaluateModel()\n",
    "        \n",
    "    def firstSearch(self):\n",
    "        # Primera búsqueda de C y gamma\n",
    "        print(\"First Search\")\n",
    "        gamma = []\n",
    "        C = []\n",
    "        for i in range(-7,15):\n",
    "            if(i%2==0):\n",
    "                C.append(pow(2,i))\n",
    "                gamma.append(pow(2,-i))\n",
    "        \n",
    "        self.gridSearch(gamma, C)\n",
    "        \n",
    "    def secondSearch(self):\n",
    "        # Segunda búsqueda de C y gamma\n",
    "        print(\"Second Search\")\n",
    "        gamma = []\n",
    "        C = []\n",
    "        for i in range(int(self.bestC-1),int(self.bestC+2)):\n",
    "            for j in range(0,4):\n",
    "                C.append(round(pow(2,i + j*0.25),2))\n",
    "        \n",
    "        if(self.model == 'SVC'):\n",
    "            for i in range(int(self.bestgamma-1),int(self.bestgamma+2)):\n",
    "                for j in range(0,4):\n",
    "                    gamma.append(round(pow(2,i + j*0.25),10))\n",
    "                \n",
    "        self.gridSearch(gamma, C, printBest = True)\n",
    "        \n",
    "    def gridSearch(self, gamma, C, printBest = False):\n",
    "        # Búsqueda de C y gamma usando gridSearch\n",
    "        start_time = time.time()\n",
    "\n",
    "        \n",
    "        if(self.model == 'SVC'):\n",
    "            grid_params = {'gamma':gamma, 'C':C}\n",
    "            gs = GridSearchCV(SVC(), grid_params, verbose = 1, cv = 10, n_jobs = -1)\n",
    "        elif(self.model == 'LinearSVC'):\n",
    "            grid_params = {'C':C}\n",
    "            gs = GridSearchCV(LinearSVC(), grid_params, verbose = 1, cv = 10, n_jobs = -1)\n",
    "        gs_results = gs.fit(self.X_train, self.y_train)\n",
    "\n",
    "        print(\"--- %s seconds ---\" % (time.time() - start_time))\n",
    "        \n",
    "        self.bestC = math.log(gs_results.best_params_['C'],2)\n",
    "        if(self.model == 'SVC'):\n",
    "            self.bestgamma = math.log(gs_results.best_params_['gamma'],2)\n",
    "        \n",
    "        \n",
    "        if(printBest):\n",
    "            print(\"Best score:\")\n",
    "            print(gs_results.best_score_)\n",
    "            print(\"Best estimator:\")\n",
    "            print(gs_results.best_estimator_)\n",
    "            print(\"Best params:\")\n",
    "            print(gs_results.best_params_)\n",
    "            \n",
    "    def trainModel(self):\n",
    "        # Entrenamos el modelo completo\n",
    "        print(\"Training full model\")\n",
    "        if(self.model == 'SVC'):\n",
    "            self.model = SVC(C=pow(2,self.bestC), gamma=pow(2,self.bestgamma))\n",
    "        elif(self.model == 'LinearSVC'):\n",
    "            self.model = LinearSVC(C=pow(2,self.bestC))\n",
    "            \n",
    "        self.model.fit(self.X_train, self.y_train)\n",
    "        \n",
    "        \n",
    "    # Pinta la matriz de confusion\n",
    "    def evaluateModel(self):\n",
    "        print(\"Evaluating with test\")\n",
    "        y_pred = self.model.predict(self.X_test)\n",
    "\n",
    "        # Confusion Matrix\n",
    "        #cmp = ConfusionMatrixDisplay.from_predictions(y, y_pred)\n",
    "        #fig, ax = plt.subplots(figsize=(15,15))\n",
    "        #cmp.plot(ax=ax)\n",
    "\n",
    "        # Accuracy\n",
    "        print(\"Accuracy:\")\n",
    "        print(accuracy_score(self.y_test, y_pred))\n",
    "\n",
    "        # Recall\n",
    "        #print(\"Recall:\")\n",
    "        #print(recall_score(self.y_test, y_pred, average=None))\n",
    "\n",
    "        # Precision\n",
    "        print(\"Precision:\")\n",
    "        print(precision_score(self.y_test, y_pred, average=None))\n",
    "\n",
    "        # F1 Score\n",
    "        print(\"F1 Score:\")\n",
    "        print(f1_score(self.y_test, y_pred, average=None))\n",
    "        "
   ]
  },
  {
   "cell_type": "markdown",
   "id": "f765c889",
   "metadata": {
    "pycharm": {
     "name": "#%% md\n"
    }
   },
   "source": [
    "# Tarea 4: Clasificación de los datos originales"
   ]
  },
  {
   "cell_type": "markdown",
   "id": "ccb92a2f",
   "metadata": {
    "pycharm": {
     "name": "#%% md\n"
    }
   },
   "source": [
    "**Realizar una afinación de hiperparámetros para LinearSVC y SVC con kernel ’rbf’ para la clasificación de los datos originales, realizando la búsqueda de parámetros como se comentó en las subsecciones 7.4.1 y 7.4.2 (cambiando SVR por SVC). Usar para el parámetro ’cv’ de GridSearchCV el valor 10. Medir los tiempos en milisegundos de las dos ejecuciones de GridSearchCV. Se recomienda usar multiproceso.**"
   ]
  },
  {
   "cell_type": "markdown",
   "id": "02364b69",
   "metadata": {
    "pycharm": {
     "name": "#%% md\n"
    }
   },
   "source": [
    "Gracias a la clase anteriormente definida, podemos cumplir esta tarea en unas pocas líneas."
   ]
  },
  {
   "cell_type": "markdown",
   "id": "dfffdacd",
   "metadata": {
    "pycharm": {
     "name": "#%% md\n"
    }
   },
   "source": [
    "## LinearSVC"
   ]
  },
  {
   "cell_type": "code",
   "execution_count": 24,
   "id": "1fb3cb5d",
   "metadata": {
    "pycharm": {
     "name": "#%%\n"
    }
   },
   "outputs": [
    {
     "name": "stdout",
     "output_type": "stream",
     "text": [
      "First Search\n",
      "Fitting 10 folds for each of 11 candidates, totalling 110 fits\n"
     ]
    },
    {
     "name": "stderr",
     "output_type": "stream",
     "text": [
      "/usr/local/lib/python3.8/dist-packages/sklearn/model_selection/_split.py:676: UserWarning: The least populated class in y has only 6 members, which is less than n_splits=10.\n",
      "  warnings.warn(\n"
     ]
    },
    {
     "name": "stdout",
     "output_type": "stream",
     "text": [
      "--- 1516.5606124401093 seconds ---\n",
      "Second Search\n",
      "Fitting 10 folds for each of 12 candidates, totalling 120 fits\n"
     ]
    },
    {
     "name": "stderr",
     "output_type": "stream",
     "text": [
      "/usr/local/lib/python3.8/dist-packages/sklearn/model_selection/_split.py:676: UserWarning: The least populated class in y has only 6 members, which is less than n_splits=10.\n",
      "  warnings.warn(\n"
     ]
    },
    {
     "name": "stdout",
     "output_type": "stream",
     "text": [
      "--- 1254.5398118495941 seconds ---\n",
      "Best score:\n",
      "0.95625\n",
      "Best estimator:\n",
      "LinearSVC(C=0.01)\n",
      "Best params:\n",
      "{'C': 0.01}\n",
      "Training full model\n",
      "Evaluating with test\n",
      "Accuracy:\n",
      "0.925\n",
      "Precision:\n",
      "[0.  0.  1.  1.  0.5 1.  1.  1.  1.  1.  1.  1.  1.  0.  1.  1.  1.  1.\n",
      " 1.  1.  0.5 1.  1.  1.  0.5 1.  1.  1.  1.  1.  1.  1.  1.  0.5 1.  1.\n",
      " 1.  1. ]\n",
      "F1 Score:\n",
      "[0.         0.         0.8        1.         0.5        1.\n",
      " 1.         1.         1.         1.         1.         1.\n",
      " 0.5        0.         1.         1.         1.         1.\n",
      " 1.         1.         0.66666667 1.         1.         1.\n",
      " 0.66666667 1.         1.         1.         1.         1.\n",
      " 1.         1.         0.85714286 0.66666667 1.         1.\n",
      " 1.         1.        ]\n"
     ]
    },
    {
     "name": "stderr",
     "output_type": "stream",
     "text": [
      "/usr/local/lib/python3.8/dist-packages/sklearn/metrics/_classification.py:1308: UndefinedMetricWarning: Precision is ill-defined and being set to 0.0 in labels with no predicted samples. Use `zero_division` parameter to control this behavior.\n",
      "  _warn_prf(average, modifier, msg_start, len(result))\n"
     ]
    }
   ],
   "source": [
    "cts = CompleteTrainWithGridSearch(X_train, y_train, X_test, y_test, model = 'LinearSVC')\n",
    "cts.startTraining()"
   ]
  },
  {
   "cell_type": "markdown",
   "id": "67e03cbb",
   "metadata": {
    "pycharm": {
     "name": "#%% md\n"
    }
   },
   "source": [
    "## SVC"
   ]
  },
  {
   "cell_type": "code",
   "execution_count": 25,
   "id": "5914b5a2",
   "metadata": {
    "pycharm": {
     "name": "#%%\n"
    }
   },
   "outputs": [
    {
     "name": "stdout",
     "output_type": "stream",
     "text": [
      "First Search\n",
      "Fitting 10 folds for each of 121 candidates, totalling 1210 fits\n"
     ]
    },
    {
     "name": "stderr",
     "output_type": "stream",
     "text": [
      "/usr/local/lib/python3.8/dist-packages/sklearn/model_selection/_split.py:676: UserWarning: The least populated class in y has only 6 members, which is less than n_splits=10.\n",
      "  warnings.warn(\n"
     ]
    },
    {
     "name": "stdout",
     "output_type": "stream",
     "text": [
      "--- 59.47594666481018 seconds ---\n",
      "Second Search\n",
      "Fitting 10 folds for each of 144 candidates, totalling 1440 fits\n"
     ]
    },
    {
     "name": "stderr",
     "output_type": "stream",
     "text": [
      "/usr/local/lib/python3.8/dist-packages/sklearn/model_selection/_split.py:676: UserWarning: The least populated class in y has only 6 members, which is less than n_splits=10.\n",
      "  warnings.warn(\n"
     ]
    },
    {
     "name": "stdout",
     "output_type": "stream",
     "text": [
      "--- 70.21676921844482 seconds ---\n",
      "Best score:\n",
      "0.959375\n",
      "Best estimator:\n",
      "SVC(C=9.51, gamma=3.62917e-05)\n",
      "Best params:\n",
      "{'C': 9.51, 'gamma': 3.62917e-05}\n",
      "Training full model\n",
      "Evaluating with test\n",
      "Accuracy:\n",
      "0.9375\n",
      "Precision:\n",
      "[1.   1.   0.75 0.5  0.5  1.   0.5  1.   1.   1.   1.   1.   1.   1.\n",
      " 1.   1.   1.   1.   1.   1.   1.   1.   0.5  1.   1.   1.   1.   1.\n",
      " 1.   1.   1.   1.   1.   1.   1.   1.  ]\n",
      "F1 Score:\n",
      "[1.         0.8        0.85714286 0.5        0.66666667 1.\n",
      " 0.66666667 1.         0.66666667 1.         1.         0.8\n",
      " 1.         1.         1.         1.         1.         1.\n",
      " 1.         1.         1.         1.         0.66666667 1.\n",
      " 1.         1.         1.         1.         1.         1.\n",
      " 0.85714286 1.         1.         1.         1.         1.        ]\n"
     ]
    }
   ],
   "source": [
    "cts = CompleteTrainWithGridSearch(X_train, y_train, X_test, y_test, model = 'SVC')\n",
    "cts.startTraining()"
   ]
  },
  {
   "cell_type": "markdown",
   "id": "26761085",
   "metadata": {
    "pycharm": {
     "name": "#%% md\n"
    }
   },
   "source": [
    "Podemos observar que se obtienen unos scores excepcionales, tanto en el propio train como el test. Pero, si ya obtenemos unos resultados así de buenos, ¿para qué comprimir, si ya tenemos resultados excelentes, y además perdemos información? Vamos a verlo."
   ]
  },
  {
   "cell_type": "markdown",
   "id": "712088e2",
   "metadata": {
    "pycharm": {
     "name": "#%% md\n"
    }
   },
   "source": [
    "# Tarea 5: Clasificación de los datos comprimidos con PCA"
   ]
  },
  {
   "cell_type": "markdown",
   "id": "7cf68521",
   "metadata": {
    "pycharm": {
     "name": "#%% md\n"
    }
   },
   "source": [
    "**Seguir los pasos de la tarea 4, pero usando los datos comprimidos con PCA.**"
   ]
  },
  {
   "cell_type": "markdown",
   "id": "1725cb1d",
   "metadata": {
    "pycharm": {
     "name": "#%% md\n"
    }
   },
   "source": [
    "## LinearSVC"
   ]
  },
  {
   "cell_type": "code",
   "execution_count": 26,
   "id": "585fa1ce",
   "metadata": {
    "pycharm": {
     "name": "#%%\n"
    }
   },
   "outputs": [
    {
     "name": "stdout",
     "output_type": "stream",
     "text": [
      "First Search\n",
      "Fitting 10 folds for each of 11 candidates, totalling 110 fits\n"
     ]
    },
    {
     "name": "stderr",
     "output_type": "stream",
     "text": [
      "/usr/local/lib/python3.8/dist-packages/sklearn/model_selection/_split.py:676: UserWarning: The least populated class in y has only 6 members, which is less than n_splits=10.\n",
      "  warnings.warn(\n",
      "/usr/local/lib/python3.8/dist-packages/sklearn/svm/_base.py:1199: ConvergenceWarning: Liblinear failed to converge, increase the number of iterations.\n",
      "  warnings.warn(\n",
      "/usr/local/lib/python3.8/dist-packages/sklearn/model_selection/_split.py:676: UserWarning: The least populated class in y has only 6 members, which is less than n_splits=10.\n",
      "  warnings.warn(\n"
     ]
    },
    {
     "name": "stdout",
     "output_type": "stream",
     "text": [
      "--- 37.84230947494507 seconds ---\n",
      "Second Search\n",
      "Fitting 10 folds for each of 12 candidates, totalling 120 fits\n"
     ]
    },
    {
     "name": "stderr",
     "output_type": "stream",
     "text": [
      "/usr/local/lib/python3.8/dist-packages/sklearn/svm/_base.py:1199: ConvergenceWarning: Liblinear failed to converge, increase the number of iterations.\n",
      "  warnings.warn(\n"
     ]
    },
    {
     "name": "stdout",
     "output_type": "stream",
     "text": [
      "--- 61.492920875549316 seconds ---\n",
      "Best score:\n",
      "0.94375\n",
      "Best estimator:\n",
      "LinearSVC(C=0.01)\n",
      "Best params:\n",
      "{'C': 0.01}\n",
      "Training full model\n",
      "Evaluating with test\n",
      "Accuracy:\n",
      "0.925\n",
      "Precision:\n",
      "[1.         0.66666667 1.         0.         0.5        1.\n",
      " 0.5        1.         1.         1.         1.         1.\n",
      " 1.         1.         1.         1.         1.         1.\n",
      " 1.         1.         1.         1.         0.5        1.\n",
      " 1.         1.         1.         1.         1.         1.\n",
      " 1.         1.         1.         1.         1.         0.66666667]\n",
      "F1 Score:\n",
      "[1.         0.66666667 1.         0.         0.66666667 1.\n",
      " 0.66666667 1.         0.66666667 1.         1.         0.8\n",
      " 1.         1.         1.         1.         1.         1.\n",
      " 1.         1.         1.         1.         0.66666667 1.\n",
      " 1.         1.         1.         1.         1.         1.\n",
      " 0.85714286 1.         1.         1.         1.         0.8       ]\n"
     ]
    },
    {
     "name": "stderr",
     "output_type": "stream",
     "text": [
      "/usr/local/lib/python3.8/dist-packages/sklearn/svm/_base.py:1199: ConvergenceWarning: Liblinear failed to converge, increase the number of iterations.\n",
      "  warnings.warn(\n"
     ]
    }
   ],
   "source": [
    "cts = CompleteTrainWithGridSearch(X_PCA_train, y_PCA_train, X_PCA_test, y_PCA_test, model = 'LinearSVC')\n",
    "cts.startTraining()"
   ]
  },
  {
   "cell_type": "markdown",
   "id": "bde6dd9d",
   "metadata": {
    "pycharm": {
     "name": "#%% md\n"
    }
   },
   "source": [
    "## SVC"
   ]
  },
  {
   "cell_type": "code",
   "execution_count": 27,
   "id": "32404964",
   "metadata": {
    "pycharm": {
     "name": "#%%\n"
    }
   },
   "outputs": [
    {
     "name": "stderr",
     "output_type": "stream",
     "text": [
      "/usr/local/lib/python3.8/dist-packages/sklearn/model_selection/_split.py:676: UserWarning: The least populated class in y has only 6 members, which is less than n_splits=10.\n",
      "  warnings.warn(\n"
     ]
    },
    {
     "name": "stdout",
     "output_type": "stream",
     "text": [
      "First Search\n",
      "Fitting 10 folds for each of 121 candidates, totalling 1210 fits\n",
      "--- 4.5209033489227295 seconds ---\n",
      "Second Search\n",
      "Fitting 10 folds for each of 144 candidates, totalling 1440 fits\n"
     ]
    },
    {
     "name": "stderr",
     "output_type": "stream",
     "text": [
      "/usr/local/lib/python3.8/dist-packages/sklearn/model_selection/_split.py:676: UserWarning: The least populated class in y has only 6 members, which is less than n_splits=10.\n",
      "  warnings.warn(\n"
     ]
    },
    {
     "name": "stdout",
     "output_type": "stream",
     "text": [
      "--- 5.101607322692871 seconds ---\n",
      "Best score:\n",
      "0.959375\n",
      "Best estimator:\n",
      "SVC(C=8.0, gamma=5.13242e-05)\n",
      "Best params:\n",
      "{'C': 8.0, 'gamma': 5.13242e-05}\n",
      "Training full model\n",
      "Evaluating with test\n",
      "Accuracy:\n",
      "0.975\n",
      "Precision:\n",
      "[1.  1.  1.  1.  1.  1.  0.5 1.  1.  1.  1.  1.  1.  1.  1.  1.  1.  1.\n",
      " 1.  1.  1.  1.  0.5 1.  1.  1.  1.  1.  1.  1.  1.  1.  1.  1.  1.  1. ]\n",
      "F1 Score:\n",
      "[1.         0.8        1.         1.         1.         1.\n",
      " 0.66666667 1.         0.66666667 1.         1.         1.\n",
      " 1.         1.         1.         1.         1.         1.\n",
      " 1.         1.         1.         1.         0.66666667 1.\n",
      " 1.         1.         1.         1.         1.         1.\n",
      " 1.         1.         1.         1.         1.         1.        ]\n"
     ]
    }
   ],
   "source": [
    "cts = CompleteTrainWithGridSearch(X_PCA_train, y_PCA_train, X_PCA_test, y_PCA_test, model = 'SVC')\n",
    "cts.startTraining()"
   ]
  },
  {
   "cell_type": "markdown",
   "id": "ba28ae00",
   "metadata": {
    "pycharm": {
     "name": "#%% md\n"
    }
   },
   "source": [
    "# Tarea 6: Clasificación de los datos comprimidos con LDA"
   ]
  },
  {
   "cell_type": "markdown",
   "id": "4d5329a5",
   "metadata": {
    "pycharm": {
     "name": "#%% md\n"
    }
   },
   "source": [
    "**Seguir los pasos de la tarea 4, pero usando los datos comprimidos con LDA.**"
   ]
  },
  {
   "cell_type": "markdown",
   "id": "7c8f925b",
   "metadata": {
    "pycharm": {
     "name": "#%% md\n"
    }
   },
   "source": [
    "## LinearSVC"
   ]
  },
  {
   "cell_type": "code",
   "execution_count": 28,
   "id": "01084eb5",
   "metadata": {
    "pycharm": {
     "name": "#%%\n"
    }
   },
   "outputs": [
    {
     "name": "stdout",
     "output_type": "stream",
     "text": [
      "First Search\n",
      "Fitting 10 folds for each of 11 candidates, totalling 110 fits\n"
     ]
    },
    {
     "name": "stderr",
     "output_type": "stream",
     "text": [
      "/usr/local/lib/python3.8/dist-packages/sklearn/model_selection/_split.py:676: UserWarning: The least populated class in y has only 6 members, which is less than n_splits=10.\n",
      "  warnings.warn(\n"
     ]
    },
    {
     "name": "stdout",
     "output_type": "stream",
     "text": [
      "--- 2.5226786136627197 seconds ---\n",
      "Second Search\n",
      "Fitting 10 folds for each of 12 candidates, totalling 120 fits\n"
     ]
    },
    {
     "name": "stderr",
     "output_type": "stream",
     "text": [
      "/usr/local/lib/python3.8/dist-packages/sklearn/model_selection/_split.py:676: UserWarning: The least populated class in y has only 6 members, which is less than n_splits=10.\n",
      "  warnings.warn(\n"
     ]
    },
    {
     "name": "stdout",
     "output_type": "stream",
     "text": [
      "--- 2.646900177001953 seconds ---\n",
      "Best score:\n",
      "1.0\n",
      "Best estimator:\n",
      "LinearSVC(C=0.01)\n",
      "Best params:\n",
      "{'C': 0.01}\n",
      "Training full model\n",
      "Evaluating with test\n",
      "Accuracy:\n",
      "1.0\n",
      "Precision:\n",
      "[1. 1. 1. 1. 1. 1. 1. 1. 1. 1. 1. 1. 1. 1. 1. 1. 1. 1. 1. 1. 1. 1. 1. 1.\n",
      " 1. 1. 1. 1. 1. 1. 1. 1. 1. 1. 1. 1.]\n",
      "F1 Score:\n",
      "[1. 1. 1. 1. 1. 1. 1. 1. 1. 1. 1. 1. 1. 1. 1. 1. 1. 1. 1. 1. 1. 1. 1. 1.\n",
      " 1. 1. 1. 1. 1. 1. 1. 1. 1. 1. 1. 1.]\n"
     ]
    }
   ],
   "source": [
    "cts = CompleteTrainWithGridSearch(X_LDA_train, y_LDA_train, X_LDA_test, y_LDA_test, model = 'LinearSVC')\n",
    "cts.startTraining()"
   ]
  },
  {
   "cell_type": "markdown",
   "id": "83b5576c",
   "metadata": {
    "pycharm": {
     "name": "#%% md\n"
    }
   },
   "source": [
    "## SVC"
   ]
  },
  {
   "cell_type": "code",
   "execution_count": 29,
   "id": "17b2b7a3",
   "metadata": {
    "pycharm": {
     "name": "#%%\n"
    }
   },
   "outputs": [
    {
     "name": "stdout",
     "output_type": "stream",
     "text": [
      "First Search\n",
      "Fitting 10 folds for each of 121 candidates, totalling 1210 fits\n"
     ]
    },
    {
     "name": "stderr",
     "output_type": "stream",
     "text": [
      "/usr/local/lib/python3.8/dist-packages/sklearn/model_selection/_split.py:676: UserWarning: The least populated class in y has only 6 members, which is less than n_splits=10.\n",
      "  warnings.warn(\n"
     ]
    },
    {
     "name": "stdout",
     "output_type": "stream",
     "text": [
      "--- 3.1347897052764893 seconds ---\n",
      "Second Search\n",
      "Fitting 10 folds for each of 144 candidates, totalling 1440 fits\n"
     ]
    },
    {
     "name": "stderr",
     "output_type": "stream",
     "text": [
      "/usr/local/lib/python3.8/dist-packages/sklearn/model_selection/_split.py:676: UserWarning: The least populated class in y has only 6 members, which is less than n_splits=10.\n",
      "  warnings.warn(\n"
     ]
    },
    {
     "name": "stdout",
     "output_type": "stream",
     "text": [
      "--- 3.9903392791748047 seconds ---\n",
      "Best score:\n",
      "1.0\n",
      "Best estimator:\n",
      "SVC(C=0.5, gamma=0.0078125)\n",
      "Best params:\n",
      "{'C': 0.5, 'gamma': 0.0078125}\n",
      "Training full model\n",
      "Evaluating with test\n",
      "Accuracy:\n",
      "1.0\n",
      "Precision:\n",
      "[1. 1. 1. 1. 1. 1. 1. 1. 1. 1. 1. 1. 1. 1. 1. 1. 1. 1. 1. 1. 1. 1. 1. 1.\n",
      " 1. 1. 1. 1. 1. 1. 1. 1. 1. 1. 1. 1.]\n",
      "F1 Score:\n",
      "[1. 1. 1. 1. 1. 1. 1. 1. 1. 1. 1. 1. 1. 1. 1. 1. 1. 1. 1. 1. 1. 1. 1. 1.\n",
      " 1. 1. 1. 1. 1. 1. 1. 1. 1. 1. 1. 1.]\n"
     ]
    }
   ],
   "source": [
    "cts = CompleteTrainWithGridSearch(X_LDA_train, y_LDA_train, X_LDA_test, y_LDA_test, model = 'SVC')\n",
    "cts.startTraining()"
   ]
  },
  {
   "cell_type": "markdown",
   "id": "85ecdcdb",
   "metadata": {
    "pycharm": {
     "name": "#%% md\n"
    }
   },
   "source": [
    "# Tarea 7: Evaluación de resultados"
   ]
  },
  {
   "cell_type": "markdown",
   "id": "54cc46ec",
   "metadata": {
    "pycharm": {
     "name": "#%% md\n"
    }
   },
   "source": [
    "**Comparar los parámetros resultantes para los mejores estimadores obtenidos en 4., 5. y 6. así como sus accuracies y los tiempos de ejecución totales de las búsquedas y la media de las búsquedas de cada GridSearchCV teniendo en cuenta el número de valores de los parámetros en cada GridSearchCV.**"
   ]
  },
  {
   "cell_type": "markdown",
   "id": "a2c5543c",
   "metadata": {
    "pycharm": {
     "name": "#%% md\n"
    }
   },
   "source": [
    "Ya tenemos los resultados de cada modelo. Vamos a guardarlos en un dataframe a mano, para comparar gráficamente el desempeño de cada tipo de compresión."
   ]
  },
  {
   "cell_type": "code",
   "execution_count": 33,
   "id": "2eafa7aa",
   "metadata": {
    "pycharm": {
     "name": "#%%\n"
    }
   },
   "outputs": [
    {
     "data": {
      "text/html": [
       "<div>\n",
       "<style scoped>\n",
       "    .dataframe tbody tr th:only-of-type {\n",
       "        vertical-align: middle;\n",
       "    }\n",
       "\n",
       "    .dataframe tbody tr th {\n",
       "        vertical-align: top;\n",
       "    }\n",
       "\n",
       "    .dataframe thead th {\n",
       "        text-align: right;\n",
       "    }\n",
       "</style>\n",
       "<table border=\"1\" class=\"dataframe\">\n",
       "  <thead>\n",
       "    <tr style=\"text-align: right;\">\n",
       "      <th></th>\n",
       "      <th>Compression</th>\n",
       "      <th>Learning Algorithm</th>\n",
       "      <th>First Search Time</th>\n",
       "      <th>Second Search Time</th>\n",
       "      <th>Test Accuracy</th>\n",
       "      <th>Total Search Time</th>\n",
       "      <th>First Search Each Training Time</th>\n",
       "      <th>Second Search Each Training Time</th>\n",
       "      <th>Total Search Each Training Time</th>\n",
       "    </tr>\n",
       "  </thead>\n",
       "  <tbody>\n",
       "    <tr>\n",
       "      <th>0</th>\n",
       "      <td>No compression</td>\n",
       "      <td>No compression: LinearSVC</td>\n",
       "      <td>1516.56</td>\n",
       "      <td>1254.53</td>\n",
       "      <td>0.9250</td>\n",
       "      <td>2771.09</td>\n",
       "      <td>137.869091</td>\n",
       "      <td>104.544167</td>\n",
       "      <td>242.413258</td>\n",
       "    </tr>\n",
       "    <tr>\n",
       "      <th>1</th>\n",
       "      <td>No compression</td>\n",
       "      <td>No compression: SVC</td>\n",
       "      <td>59.47</td>\n",
       "      <td>70.21</td>\n",
       "      <td>0.9375</td>\n",
       "      <td>129.68</td>\n",
       "      <td>5.406364</td>\n",
       "      <td>5.850833</td>\n",
       "      <td>11.257197</td>\n",
       "    </tr>\n",
       "    <tr>\n",
       "      <th>2</th>\n",
       "      <td>PCA</td>\n",
       "      <td>PCA: LinearSVC</td>\n",
       "      <td>37.84</td>\n",
       "      <td>61.49</td>\n",
       "      <td>0.9250</td>\n",
       "      <td>99.33</td>\n",
       "      <td>3.440000</td>\n",
       "      <td>5.124167</td>\n",
       "      <td>8.564167</td>\n",
       "    </tr>\n",
       "    <tr>\n",
       "      <th>3</th>\n",
       "      <td>PCA</td>\n",
       "      <td>PCA: SVC</td>\n",
       "      <td>4.52</td>\n",
       "      <td>5.10</td>\n",
       "      <td>0.9750</td>\n",
       "      <td>9.62</td>\n",
       "      <td>0.410909</td>\n",
       "      <td>0.425000</td>\n",
       "      <td>0.835909</td>\n",
       "    </tr>\n",
       "    <tr>\n",
       "      <th>4</th>\n",
       "      <td>LDA</td>\n",
       "      <td>LDA: LinearSVC</td>\n",
       "      <td>2.52</td>\n",
       "      <td>2.64</td>\n",
       "      <td>1.0000</td>\n",
       "      <td>5.16</td>\n",
       "      <td>0.229091</td>\n",
       "      <td>0.220000</td>\n",
       "      <td>0.449091</td>\n",
       "    </tr>\n",
       "    <tr>\n",
       "      <th>5</th>\n",
       "      <td>LDA</td>\n",
       "      <td>LDA: SVC</td>\n",
       "      <td>3.13</td>\n",
       "      <td>3.99</td>\n",
       "      <td>1.0000</td>\n",
       "      <td>7.12</td>\n",
       "      <td>0.284545</td>\n",
       "      <td>0.332500</td>\n",
       "      <td>0.617045</td>\n",
       "    </tr>\n",
       "  </tbody>\n",
       "</table>\n",
       "</div>"
      ],
      "text/plain": [
       "      Compression         Learning Algorithm  First Search Time  \\\n",
       "0  No compression  No compression: LinearSVC            1516.56   \n",
       "1  No compression        No compression: SVC              59.47   \n",
       "2             PCA             PCA: LinearSVC              37.84   \n",
       "3             PCA                   PCA: SVC               4.52   \n",
       "4             LDA             LDA: LinearSVC               2.52   \n",
       "5             LDA                   LDA: SVC               3.13   \n",
       "\n",
       "   Second Search Time  Test Accuracy  Total Search Time  \\\n",
       "0             1254.53         0.9250            2771.09   \n",
       "1               70.21         0.9375             129.68   \n",
       "2               61.49         0.9250              99.33   \n",
       "3                5.10         0.9750               9.62   \n",
       "4                2.64         1.0000               5.16   \n",
       "5                3.99         1.0000               7.12   \n",
       "\n",
       "   First Search Each Training Time  Second Search Each Training Time  \\\n",
       "0                       137.869091                        104.544167   \n",
       "1                         5.406364                          5.850833   \n",
       "2                         3.440000                          5.124167   \n",
       "3                         0.410909                          0.425000   \n",
       "4                         0.229091                          0.220000   \n",
       "5                         0.284545                          0.332500   \n",
       "\n",
       "   Total Search Each Training Time  \n",
       "0                       242.413258  \n",
       "1                        11.257197  \n",
       "2                         8.564167  \n",
       "3                         0.835909  \n",
       "4                         0.449091  \n",
       "5                         0.617045  "
      ]
     },
     "execution_count": 33,
     "metadata": {},
     "output_type": "execute_result"
    }
   ],
   "source": [
    "import pandas as pd\n",
    "results = pd.DataFrame({\n",
    "    'Compression':['No compression','No compression','PCA','PCA','LDA','LDA'],\n",
    "    'Learning Algorithm':['No compression: LinearSVC', 'No compression: SVC', 'PCA: LinearSVC', 'PCA: SVC', 'LDA: LinearSVC', 'LDA: SVC'],\n",
    "    'First Search Time':[1516.56, 59.47, 37.84, 4.52, 2.52, 3.13],\n",
    "    'Second Search Time':[1254.53, 70.21, 61.49, 5.10, 2.64, 3.99],\n",
    "    'Test Accuracy':[0.925, 0.9375, 0.925, 0.975, 1, 1]\n",
    "})\n",
    "\n",
    "results['Total Search Time'] = results['First Search Time'] + results['Second Search Time']\n",
    "results['First Search Each Training Time'] = np.where(results['Learning Algorithm'] == 'SVC', results['First Search Time']/121, results['First Search Time']/11)\n",
    "results['Second Search Each Training Time'] = np.where(results['Learning Algorithm'] == 'SVC', results['Second Search Time']/144, results['Second Search Time']/12)\n",
    "results['Total Search Each Training Time'] = results['First Search Each Training Time'] + results['Second Search Each Training Time']\n",
    "\n",
    "\n",
    "results"
   ]
  },
  {
   "cell_type": "markdown",
   "id": "5f643ed3",
   "metadata": {
    "pycharm": {
     "name": "#%% md\n"
    }
   },
   "source": [
    "### Comparación de tiempos"
   ]
  },
  {
   "cell_type": "code",
   "execution_count": 34,
   "id": "79e7ff5d",
   "metadata": {
    "pycharm": {
     "name": "#%%\n"
    }
   },
   "outputs": [
    {
     "data": {
      "text/plain": [
       "<AxesSubplot:xlabel='Learning Algorithm'>"
      ]
     },
     "execution_count": 34,
     "metadata": {},
     "output_type": "execute_result"
    },
    {
     "data": {
      "image/png": "[encoded data removed]",
      "text/plain": [
       "<Figure size 432x288 with 1 Axes>"
      ]
     },
     "metadata": {
      "needs_background": "light"
     },
     "output_type": "display_data"
    }
   ],
   "source": [
    "import matplotlib.pyplot as plt\n",
    "import pandas as pd\n",
    "\n",
    "# a simple line plot\n",
    "results.plot(kind='bar',x='Learning Algorithm',y=['Total Search Time', 'First Search Time', 'Second Search Time'], grid=True)"
   ]
  },
  {
   "cell_type": "markdown",
   "id": "8bcf77eb",
   "metadata": {
    "pycharm": {
     "name": "#%% md\n"
    }
   },
   "source": [
    "Podemos observar una diferencia abrumadora: Sin compresión, los algoritmos tardan, aproximadamente, unas 20 veces más en cada entrenamiento. Ésto es de esperar, puesto que tienen que entrenar con 64x64 variables, mientras que con los datasets comprimidos, entrenan con poco más de 100.\n",
    "\n",
    "Mientras que con LinearSVC, sin compresión tarda unos 20-30 minutos en completar cada búsqueda de hiperparámetros, con compresión ronda el minuto. Por búsqueda, pasa de unos dos minutos aproximadamente, a unos 5 segundos.\n",
    "\n",
    "Para SVC, los tiempos mejoran mucho respecto a LinearSVC. Sin embargo, las distancias entre datasets sin comprimir y comprimidos se mantienen: Para cada búsqueda de gridsearch, pasa de un minuto aproximadamente, a unos 5 segundos. Cada entrenamiento pasa de durar 5 segundos, a medio segundo.\n",
    "\n",
    "Vemos que, en cuanto a tiempos, merece **mucho** la pena usar técnicas de compresión como PCA o LDA. Pero, ¿qué pasa con la calidad de los modelos? ¿Funcionan igual de bien, o la pérdida de información nos lastra las puntuaciones? "
   ]
  },
  {
   "cell_type": "markdown",
   "id": "b81df443",
   "metadata": {
    "pycharm": {
     "name": "#%% md\n"
    }
   },
   "source": [
    "### Comparación de scores"
   ]
  },
  {
   "cell_type": "code",
   "execution_count": 36,
   "id": "72abaebc",
   "metadata": {
    "pycharm": {
     "name": "#%%\n"
    }
   },
   "outputs": [
    {
     "data": {
      "text/plain": [
       "<AxesSubplot:xlabel='Learning Algorithm'>"
      ]
     },
     "execution_count": 36,
     "metadata": {},
     "output_type": "execute_result"
    },
    {
     "data": {
      "image/png": "[encoded data removed]",
      "text/plain": [
       "<Figure size 432x288 with 1 Axes>"
      ]
     },
     "metadata": {
      "needs_background": "light"
     },
     "output_type": "display_data"
    }
   ],
   "source": [
    "import matplotlib.pyplot as plt\n",
    "import pandas as pd\n",
    "\n",
    "# a simple line plot\n",
    "results.plot(kind='bar',x='Learning Algorithm',y='Test Accuracy', grid=True)"
   ]
  },
  {
   "cell_type": "markdown",
   "id": "35e12219",
   "metadata": {
    "pycharm": {
     "name": "#%% md\n"
    }
   },
   "source": [
    "Si bien sin comprimir se han obtenido unas puntuaciones muy buenas, con el dataset comprimido las puntuaciones han sido incluso mejores! Ésto se puede deber a que al algoritmo le cuesta mucho menos trabajo entrenar con pocas variables, y suple esa pérdida de información al comprimir (recordemos que en PCA asegurábamos una varianza del 95%), con una mayor facilidad para ajustar el modelo.\n",
    "\n",
    "Con LDA, de hecho, hemos encontrado un modelo teóricamente perfecto, con un 100% de aciertos en el test.\n",
    "\n",
    "Hay que tener en cuenta también que tenemos sólo 320 entradas para entrenar el modelo, bastante pocas para tantas variables a entrenar.\n",
    "\n",
    "En conclusión, usar técnicas de compresión como puede ser PCA o LDA, no sólo nos ayuda en cuanto a tiempos de entrenamiento, si no que incluso puede ayudarnos en cuanto a calidad del modelo, ya que hay menos variables a ajustar, a pesar de la pequeña pérdida de información."
   ]
  },
  {
   "cell_type": "markdown",
   "id": "7676e10c",
   "metadata": {
    "pycharm": {
     "name": "#%% md\n"
    }
   },
   "source": [
    "# Bibliografía"
   ]
  },
  {
   "cell_type": "markdown",
   "id": "3a58a803",
   "metadata": {
    "pycharm": {
     "name": "#%% md\n"
    }
   },
   "source": [
    "   * Transformación inversa de LDA: https://stackoverflow.com/questions/42957962/linear-discriminant-analysis-inverse-transform\n",
    "   * Documentación respecto a Principal Component Analysis: https://scikit-learn.org/stable/modules/generated/sklearn.decomposition.PCA.html\n",
    "   * Documentación respecto a Latent Dirichlet Allocation: https://scikit-learn.org/stable/modules/generated/sklearn.decomposition.LatentDirichletAllocation.html#sklearn.decomposition.LatentDirichletAllocation\n",
    "   * Documentación respecto a SVMs: https://scikit-learn.org/stable/modules/classes.html#module-sklearn.svm\n",
    "   * Ejemplos de transformadores personalizados para pipelines: https://github.com/HCGrit/MachineLearning-iamJustAStudent/blob/master/PipelineFoundation/Pipeline_Experiment.ipynb\n",
    "   * Aurélien Géron - Hands-On Machine Learning with Scikit-Learn, Keras, and TensorFlow - Concepts, Tools, and Techniques to Build Intelligent Systems, 2nd Edition (2019)"
   ]
  },
  {
   "cell_type": "code",
   "execution_count": null,
   "id": "c723f1f6",
   "metadata": {
    "pycharm": {
     "name": "#%%\n"
    }
   },
   "outputs": [],
   "source": []
  }
 ],
 "metadata": {
  "kernelspec": {
   "display_name": "Python 3 (ipykernel)",
   "language": "python",
   "name": "python3"
  },
  "language_info": {
   "codemirror_mode": {
    "name": "ipython",
    "version": 3
   },
   "file_extension": ".py",
   "mimetype": "text/x-python",
   "name": "python",
   "nbconvert_exporter": "python",
   "pygments_lexer": "ipython3",
   "version": "3.8.10"
  }
 },
 "nbformat": 4,
 "nbformat_minor": 5
}